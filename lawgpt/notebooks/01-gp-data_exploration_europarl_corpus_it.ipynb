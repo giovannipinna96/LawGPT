{
 "cells": [
  {
   "cell_type": "markdown",
   "metadata": {},
   "source": [
    "# data exploration for the europarl corpus it"
   ]
  },
  {
   "cell_type": "code",
   "execution_count": 1,
   "metadata": {},
   "outputs": [],
   "source": [
    "import os\n",
    "import pandas as pd"
   ]
  },
  {
   "cell_type": "code",
   "execution_count": 2,
   "metadata": {},
   "outputs": [],
   "source": [
    "ROOT_PATH = \"../data/raw/summarization/europarl_corpus_it/europarl_it_eng\""
   ]
  },
  {
   "cell_type": "code",
   "execution_count": 3,
   "metadata": {},
   "outputs": [],
   "source": [
    "# # Replace with the actual path to your text file\n",
    "# file_path = \"europarl-v7.it-en.en\"\n",
    "\n",
    "# path = os.path.join(ROOT_PATH, file_path)\n",
    "\n",
    "# print(os.path.exists(path))\n",
    "\n",
    "# # Initialize an empty list to store the lines\n",
    "# lines_list = []\n",
    "\n",
    "# # Open the file in read mode and read its content line by line\n",
    "# with open(path, \"r\") as file:\n",
    "#     lines_list = file.readlines()\n",
    "\n",
    "# # Display the content of the list (each line as an element)\n",
    "# print(lines_list)b"
   ]
  },
  {
   "cell_type": "markdown",
   "metadata": {},
   "source": [
    "sfortunatamente il file è troppo grosso e così non lo riesco ad aprire provo con un metodo più efficiente"
   ]
  },
  {
   "cell_type": "code",
   "execution_count": 4,
   "metadata": {},
   "outputs": [
    {
     "name": "stdout",
     "output_type": "stream",
     "text": [
      "True\n"
     ]
    }
   ],
   "source": [
    "# TODO make the same for the europarl-v7.it-en.it\n",
    "file_path = \"europarl-v7.it-en.en\"\n",
    "\n",
    "path = os.path.join(ROOT_PATH, file_path)\n",
    "\n",
    "print(os.path.exists(path))\n",
    "\n",
    "with open(path, \"r\") as file:\n",
    "    lines_list = [line.strip() for line in file]\n",
    "\n",
    "# print(lines_list)"
   ]
  },
  {
   "cell_type": "code",
   "execution_count": 5,
   "metadata": {},
   "outputs": [
    {
     "data": {
      "text/plain": [
       "['Resumption of the session',\n",
       " 'I declare resumed the session of the European Parliament adjourned on Friday 17 December 1999, and I would like once again to wish you a happy new year in the hope that you enjoyed a pleasant festive period.',\n",
       " \"Although, as you will have seen, the dreaded 'millennium bug' failed to materialise, still the people in a number of countries suffered a series of natural disasters that truly were dreadful.\",\n",
       " 'You have requested a debate on this subject in the course of the next few days, during this part-session.',\n",
       " \"In the meantime, I should like to observe a minute' s silence, as a number of Members have requested, on behalf of all the victims concerned, particularly those of the terrible storms, in the various countries of the European Union.\"]"
      ]
     },
     "execution_count": 5,
     "metadata": {},
     "output_type": "execute_result"
    }
   ],
   "source": [
    "lines_list[:5]"
   ]
  },
  {
   "cell_type": "markdown",
   "metadata": {},
   "source": [
    "#### non è detto che questo possa essere utile dato che è una trascrizione di quello che ha detto il parlamento un po come potrebbe essere il dataset di FBK e Trento (Italian Parlamentary Corpus). Però fors si potrebbe utlizzare per fare un fine tuning su linguaggio giusridico in modo da far imparare al LLM già un po di gergo."
   ]
  },
  {
   "cell_type": "markdown",
   "metadata": {},
   "source": []
  }
 ],
 "metadata": {
  "kernelspec": {
   "display_name": ".venv",
   "language": "python",
   "name": "python3"
  },
  "language_info": {
   "codemirror_mode": {
    "name": "ipython",
    "version": 3
   },
   "file_extension": ".py",
   "mimetype": "text/x-python",
   "name": "python",
   "nbconvert_exporter": "python",
   "pygments_lexer": "ipython3",
   "version": "3.10.10"
  }
 },
 "nbformat": 4,
 "nbformat_minor": 2
}

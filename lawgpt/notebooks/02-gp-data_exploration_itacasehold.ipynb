{
 "cells": [
  {
   "cell_type": "markdown",
   "metadata": {},
   "source": [
    "# data exploration in itacasehold dataset"
   ]
  },
  {
   "cell_type": "code",
   "execution_count": 1,
   "metadata": {},
   "outputs": [],
   "source": [
    "import pandas as pd\n",
    "import os"
   ]
  },
  {
   "cell_type": "code",
   "execution_count": 2,
   "metadata": {},
   "outputs": [],
   "source": [
    "ROOT_PATH = \"../data/raw/summarization/itacasehold/\""
   ]
  },
  {
   "cell_type": "code",
   "execution_count": 4,
   "metadata": {},
   "outputs": [
    {
     "name": "stdout",
     "output_type": "stream",
     "text": [
      "True\n"
     ]
    },
    {
     "ename": "ImportError",
     "evalue": "Unable to find a usable engine; tried using: 'pyarrow', 'fastparquet'.\nA suitable version of pyarrow or fastparquet is required for parquet support.\nTrying to import the above resulted in these errors:\n - Missing optional dependency 'pyarrow'. pyarrow is required for parquet support. Use pip or conda to install pyarrow.\n - Missing optional dependency 'fastparquet'. fastparquet is required for parquet support. Use pip or conda to install fastparquet.",
     "output_type": "error",
     "traceback": [
      "\u001b[0;31m---------------------------------------------------------------------------\u001b[0m",
      "\u001b[0;31mImportError\u001b[0m                               Traceback (most recent call last)",
      "\u001b[1;32m/mnt/data/gpinna/LawGPT/lawgpt/notebooks/02-gp-data_exploration_itacasehold.ipynb Cell 4\u001b[0m line \u001b[0;36m5\n\u001b[1;32m      <a href='vscode-notebook-cell://ssh-remote%2B140.105.140.237/mnt/data/gpinna/LawGPT/lawgpt/notebooks/02-gp-data_exploration_itacasehold.ipynb#W3sdnNjb2RlLXJlbW90ZQ%3D%3D?line=1'>2</a>\u001b[0m path \u001b[39m=\u001b[39m os\u001b[39m.\u001b[39mpath\u001b[39m.\u001b[39mjoin(ROOT_PATH, file_path)\n\u001b[1;32m      <a href='vscode-notebook-cell://ssh-remote%2B140.105.140.237/mnt/data/gpinna/LawGPT/lawgpt/notebooks/02-gp-data_exploration_itacasehold.ipynb#W3sdnNjb2RlLXJlbW90ZQ%3D%3D?line=2'>3</a>\u001b[0m \u001b[39mprint\u001b[39m(os\u001b[39m.\u001b[39mpath\u001b[39m.\u001b[39mexists(path))\n\u001b[0;32m----> <a href='vscode-notebook-cell://ssh-remote%2B140.105.140.237/mnt/data/gpinna/LawGPT/lawgpt/notebooks/02-gp-data_exploration_itacasehold.ipynb#W3sdnNjb2RlLXJlbW90ZQ%3D%3D?line=4'>5</a>\u001b[0m df_test \u001b[39m=\u001b[39m pd\u001b[39m.\u001b[39;49mread_parquet(path)\n",
      "File \u001b[0;32m/mnt/data/gpinna/LawGPT/.venv/lib/python3.10/site-packages/pandas/io/parquet.py:654\u001b[0m, in \u001b[0;36mread_parquet\u001b[0;34m(path, engine, columns, storage_options, use_nullable_dtypes, dtype_backend, filesystem, filters, **kwargs)\u001b[0m\n\u001b[1;32m    501\u001b[0m \u001b[39m@doc\u001b[39m(storage_options\u001b[39m=\u001b[39m_shared_docs[\u001b[39m\"\u001b[39m\u001b[39mstorage_options\u001b[39m\u001b[39m\"\u001b[39m])\n\u001b[1;32m    502\u001b[0m \u001b[39mdef\u001b[39;00m \u001b[39mread_parquet\u001b[39m(\n\u001b[1;32m    503\u001b[0m     path: FilePath \u001b[39m|\u001b[39m ReadBuffer[\u001b[39mbytes\u001b[39m],\n\u001b[0;32m   (...)\u001b[0m\n\u001b[1;32m    511\u001b[0m     \u001b[39m*\u001b[39m\u001b[39m*\u001b[39mkwargs,\n\u001b[1;32m    512\u001b[0m ) \u001b[39m-\u001b[39m\u001b[39m>\u001b[39m DataFrame:\n\u001b[1;32m    513\u001b[0m \u001b[39m    \u001b[39m\u001b[39m\"\"\"\u001b[39;00m\n\u001b[1;32m    514\u001b[0m \u001b[39m    Load a parquet object from the file path, returning a DataFrame.\u001b[39;00m\n\u001b[1;32m    515\u001b[0m \n\u001b[0;32m   (...)\u001b[0m\n\u001b[1;32m    651\u001b[0m \u001b[39m    1    4    9\u001b[39;00m\n\u001b[1;32m    652\u001b[0m \u001b[39m    \"\"\"\u001b[39;00m\n\u001b[0;32m--> 654\u001b[0m     impl \u001b[39m=\u001b[39m get_engine(engine)\n\u001b[1;32m    656\u001b[0m     \u001b[39mif\u001b[39;00m use_nullable_dtypes \u001b[39mis\u001b[39;00m \u001b[39mnot\u001b[39;00m lib\u001b[39m.\u001b[39mno_default:\n\u001b[1;32m    657\u001b[0m         msg \u001b[39m=\u001b[39m (\n\u001b[1;32m    658\u001b[0m             \u001b[39m\"\u001b[39m\u001b[39mThe argument \u001b[39m\u001b[39m'\u001b[39m\u001b[39muse_nullable_dtypes\u001b[39m\u001b[39m'\u001b[39m\u001b[39m is deprecated and will be removed \u001b[39m\u001b[39m\"\u001b[39m\n\u001b[1;32m    659\u001b[0m             \u001b[39m\"\u001b[39m\u001b[39min a future version.\u001b[39m\u001b[39m\"\u001b[39m\n\u001b[1;32m    660\u001b[0m         )\n",
      "File \u001b[0;32m/mnt/data/gpinna/LawGPT/.venv/lib/python3.10/site-packages/pandas/io/parquet.py:66\u001b[0m, in \u001b[0;36mget_engine\u001b[0;34m(engine)\u001b[0m\n\u001b[1;32m     63\u001b[0m         \u001b[39mexcept\u001b[39;00m \u001b[39mImportError\u001b[39;00m \u001b[39mas\u001b[39;00m err:\n\u001b[1;32m     64\u001b[0m             error_msgs \u001b[39m+\u001b[39m\u001b[39m=\u001b[39m \u001b[39m\"\u001b[39m\u001b[39m\\n\u001b[39;00m\u001b[39m - \u001b[39m\u001b[39m\"\u001b[39m \u001b[39m+\u001b[39m \u001b[39mstr\u001b[39m(err)\n\u001b[0;32m---> 66\u001b[0m     \u001b[39mraise\u001b[39;00m \u001b[39mImportError\u001b[39;00m(\n\u001b[1;32m     67\u001b[0m         \u001b[39m\"\u001b[39m\u001b[39mUnable to find a usable engine; \u001b[39m\u001b[39m\"\u001b[39m\n\u001b[1;32m     68\u001b[0m         \u001b[39m\"\u001b[39m\u001b[39mtried using: \u001b[39m\u001b[39m'\u001b[39m\u001b[39mpyarrow\u001b[39m\u001b[39m'\u001b[39m\u001b[39m, \u001b[39m\u001b[39m'\u001b[39m\u001b[39mfastparquet\u001b[39m\u001b[39m'\u001b[39m\u001b[39m.\u001b[39m\u001b[39m\\n\u001b[39;00m\u001b[39m\"\u001b[39m\n\u001b[1;32m     69\u001b[0m         \u001b[39m\"\u001b[39m\u001b[39mA suitable version of \u001b[39m\u001b[39m\"\u001b[39m\n\u001b[1;32m     70\u001b[0m         \u001b[39m\"\u001b[39m\u001b[39mpyarrow or fastparquet is required for parquet \u001b[39m\u001b[39m\"\u001b[39m\n\u001b[1;32m     71\u001b[0m         \u001b[39m\"\u001b[39m\u001b[39msupport.\u001b[39m\u001b[39m\\n\u001b[39;00m\u001b[39m\"\u001b[39m\n\u001b[1;32m     72\u001b[0m         \u001b[39m\"\u001b[39m\u001b[39mTrying to import the above resulted in these errors:\u001b[39m\u001b[39m\"\u001b[39m\n\u001b[1;32m     73\u001b[0m         \u001b[39mf\u001b[39m\u001b[39m\"\u001b[39m\u001b[39m{\u001b[39;00merror_msgs\u001b[39m}\u001b[39;00m\u001b[39m\"\u001b[39m\n\u001b[1;32m     74\u001b[0m     )\n\u001b[1;32m     76\u001b[0m \u001b[39mif\u001b[39;00m engine \u001b[39m==\u001b[39m \u001b[39m\"\u001b[39m\u001b[39mpyarrow\u001b[39m\u001b[39m\"\u001b[39m:\n\u001b[1;32m     77\u001b[0m     \u001b[39mreturn\u001b[39;00m PyArrowImpl()\n",
      "\u001b[0;31mImportError\u001b[0m: Unable to find a usable engine; tried using: 'pyarrow', 'fastparquet'.\nA suitable version of pyarrow or fastparquet is required for parquet support.\nTrying to import the above resulted in these errors:\n - Missing optional dependency 'pyarrow'. pyarrow is required for parquet support. Use pip or conda to install pyarrow.\n - Missing optional dependency 'fastparquet'. fastparquet is required for parquet support. Use pip or conda to install fastparquet."
     ]
    }
   ],
   "source": [
    "file_path = \"test-itacasehold.parquet\"\n",
    "path = os.path.join(ROOT_PATH, file_path)\n",
    "print(os.path.exists(path))\n",
    "\n",
    "# df_test = pd.read_parquet(path)"
   ]
  },
  {
   "cell_type": "code",
   "execution_count": 6,
   "metadata": {},
   "outputs": [
    {
     "name": "stdout",
     "output_type": "stream",
     "text": [
      "                                                   url  \\\n",
      "0    https://www.giustizia-amministrativa.it/web/gu...   \n",
      "1    https://www.giustizia-amministrativa.it/web/gu...   \n",
      "2    https://www.giustizia-amministrativa.it/web/gu...   \n",
      "3    https://www.giustizia-amministrativa.it/web/gu...   \n",
      "4    https://www.giustizia-amministrativa.it/web/gu...   \n",
      "..                                                 ...   \n",
      "216  https://www.giustizia-amministrativa.it/web/gu...   \n",
      "217  https://www.giustizia-amministrativa.it/web/gu...   \n",
      "218  https://www.giustizia-amministrativa.it/web/gu...   \n",
      "219  https://www.giustizia-amministrativa.it/web/gu...   \n",
      "220  https://www.giustizia-amministrativa.it/web/gu...   \n",
      "\n",
      "                                                 title  \\\n",
      "0    \\nAppellabilità del decreto cautelare monocrat...   \n",
      "1    \\nSanzione al militare per offuscamento della ...   \n",
      "2    \\nRipubblicazione del piano urbanistico comuna...   \n",
      "3    \\nPresunzione di legittimità del titolo abilit...   \n",
      "4    \\nAttività di naturopata svolta presso  una er...   \n",
      "..                                                 ...   \n",
      "216  \\nSul principio di sinteticità e sul rapporto ...   \n",
      "217  \\nOrdinanza del Sindaco di Roma che disciplina...   \n",
      "218    \\nNatura sanzionatoria dell’interdittiva Anac\\n   \n",
      "219  \\nConseguenze connesse alla modifica, da parte...   \n",
      "220            \\nInvarianza della soglia di anomalia\\n   \n",
      "\n",
      "                                                   doc  \\\n",
      "0    N. 01962/2022 REG.PROV.CAU.\\nN. 03434/2022\\r\\n...   \n",
      "1    N. 07658/2020REG.PROV.COLL.\\nN. 01167/2020 REG...   \n",
      "2    N. 07027/2020REG.PROV.COLL.\\nN. 05405/2014 REG...   \n",
      "3    N. 09664/2022REG.PROV.COLL.\\nN. 01714/2022 REG...   \n",
      "4    N. 00207/2021 REG.PROV.COLL.\\nN. 00223/2016 RE...   \n",
      "..                                                 ...   \n",
      "216  N. 10275/2022REG.PROV.COLL.\\nN. 00181/2022 REG...   \n",
      "217  N. 04165/2020 REG.PROV.CAU.\\nN. 03976/2020\\r\\n...   \n",
      "218  N. 00491/2022REG.PROV.COLL.\\nN. 03139/2021 REG...   \n",
      "219  N. 00192/2021REG.PROV.COLL.\\nN. 00277/2018 REG...   \n",
      "220  N. 00857/2020 REG.PROV.COLL.\\nN. 00614/2020 RE...   \n",
      "\n",
      "                                               summary  \\\n",
      "0    Processo amministrativo – Giudizio cautelare -...   \n",
      "1    Militari, forze armate e di polizia - Procedim...   \n",
      "2    Urbanistica - Piano urbanistico comunale – Mod...   \n",
      "3    Edilizia e urbanistica - Permesso di costruire...   \n",
      "4    Professioni e mestieri – Naturopata - Attività...   \n",
      "..                                                 ...   \n",
      "216  Giustizia amministrativa – Sinteticità degli a...   \n",
      "217  Covid-19 – Lazio - Ordinanza del Sindaco di Ro...   \n",
      "218  Annullamento d’ufficio e revoca - Riesame – Ri...   \n",
      "219  Processo amministrativo – Revocazione – Modifi...   \n",
      "220  Contratti della Pubblica amministrazione – Off...   \n",
      "\n",
      "                                      materia  \n",
      "0                     Processo amministrativo  \n",
      "1         Militari, forze armate e di polizia  \n",
      "2                                 Urbanistica  \n",
      "3                                    Edilizia  \n",
      "4                      Professioni e mestieri  \n",
      "..                                        ...  \n",
      "216                      Accesso ai documenti  \n",
      "217                                  Covid-19  \n",
      "218           Annullamento d’ufficio e revoca  \n",
      "219                   Processo amministrativo  \n",
      "220  Contratti della Pubblica amministrazione  \n",
      "\n",
      "[221 rows x 5 columns]\n"
     ]
    }
   ],
   "source": [
    "import pyarrow.parquet as pq\n",
    "\n",
    "\n",
    "# Read the Parquet file with a specified engine\n",
    "# , engine='pyarrow') non so perchè non va con engine\n",
    "table = pq.read_table(path)\n",
    "\n",
    "# Convert the table to a Pandas DataFrame (optional)\n",
    "dataframe = table.to_pandas()\n",
    "\n",
    "# Display the DataFrame\n",
    "# print(dataframe)"
   ]
  },
  {
   "cell_type": "code",
   "execution_count": 8,
   "metadata": {},
   "outputs": [
    {
     "data": {
      "text/plain": [
       "url        https://www.giustizia-amministrativa.it/web/gu...\n",
       "title      \\nAppellabilità del decreto cautelare monocrat...\n",
       "doc        N. 01962/2022 REG.PROV.CAU.\\nN. 03434/2022\\r\\n...\n",
       "summary    Processo amministrativo – Giudizio cautelare -...\n",
       "materia                              Processo amministrativo\n",
       "Name: 0, dtype: object"
      ]
     },
     "execution_count": 8,
     "metadata": {},
     "output_type": "execute_result"
    }
   ],
   "source": [
    "dataframe.iloc[0]"
   ]
  },
  {
   "cell_type": "code",
   "execution_count": 10,
   "metadata": {},
   "outputs": [
    {
     "data": {
      "text/plain": [
       "pandas.core.frame.DataFrame"
      ]
     },
     "execution_count": 10,
     "metadata": {},
     "output_type": "execute_result"
    }
   ],
   "source": [
    "type(dataframe)  # si è un dataframe, giusto"
   ]
  },
  {
   "cell_type": "code",
   "execution_count": null,
   "metadata": {},
   "outputs": [],
   "source": []
  }
 ],
 "metadata": {
  "kernelspec": {
   "display_name": ".venv",
   "language": "python",
   "name": "python3"
  },
  "language_info": {
   "codemirror_mode": {
    "name": "ipython",
    "version": 3
   },
   "file_extension": ".py",
   "mimetype": "text/x-python",
   "name": "python",
   "nbconvert_exporter": "python",
   "pygments_lexer": "ipython3",
   "version": "3.10.10"
  }
 },
 "nbformat": 4,
 "nbformat_minor": 2
}

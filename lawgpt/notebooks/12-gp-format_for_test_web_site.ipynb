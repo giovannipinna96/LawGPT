{
 "cells": [
  {
   "cell_type": "markdown",
   "metadata": {},
   "source": [
    "# Format file as\n",
    "\n",
    "**Esempio di JSON per LegalText**:\n",
    "<pre>\n",
    "{\n",
    "\"id\": 1,\n",
    "\"modelName\": \"Modello LLM Esempio 1\",\n",
    "\"request\": \"Il caso 'Smith vs. Jones': una sentenza emblematica sulla responsabilità civile.\",\n",
    "\"gold\": \"La sentenza 'Smith vs. Jones' chiarisce le responsabilità...\",\n",
    "\"generated_clean\": \"La sentenza del caso 'Smith vs. Jones' stabilisce...\"\n",
    "}\n",
    "</pre>\n",
    "\n",
    "**Esempio di JSON per Question**:\n",
    "<pre>\n",
    "{\n",
    "\"legalTextId\": 1,\n",
    "\"questions\": [\n",
    "{\n",
    "\"questionText\": \"Qual è il principio stabilito dalla sentenza 'Smith vs. Jones'?\",\n",
    "\"options\": [\"Opzione A\", \"Opzione B\", \"Opzione C\"],\n",
    "\"correctAnswer\": \"Opzione B\"\n",
    "}\n",
    "]\n",
    "</pre>"
   ]
  },
  {
   "cell_type": "code",
   "execution_count": 1,
   "metadata": {},
   "outputs": [],
   "source": [
    "import json\n",
    "\n",
    "# Open the JSON file\n",
    "with open('sentenze_pulite2.json', 'r') as file:\n",
    "    # Load the JSON data\n",
    "    data = json.load(file)\n",
    "\n"
   ]
  },
  {
   "cell_type": "code",
   "execution_count": 3,
   "metadata": {},
   "outputs": [
    {
     "name": "stdout",
     "output_type": "stream",
     "text": [
      "Informazioni\n",
      "type: <class 'dict'>\n",
      "len data: 14\n",
      "keys: dict_keys(['c_gemma_7_train_500.json', 'c_gemma_2_train_500.json', 'b_llama-2-13b-law-gpt_train_500_base.json', 'b_moe7summ__train_500_base.json', 'c_llamantino7summarization_train_500.json', 'c_llama2_13b_summarization_train_500.json', 'c_llamantino13summarization_train_500.json', 'b_llama-2-13b-law-gpt_train_500_chat.json', 'c_llama-2-7b-law-gpt_train_500.json', 'b_llama-2-7b-law-gpt_train_500_base.json', 'b_llamantino7summarization_train_500_base.json', 'b_llamantino13summarization_train_500_base.json', 'c_moe7summ__train_500.json', 'b_llamantino7summarization_train_500_chat.json'])\n"
     ]
    }
   ],
   "source": [
    "print(\"Informazioni\")\n",
    "print(f\"type: {type(data)}\")\n",
    "print(f\"len data: {len(data)}\")\n",
    "print(f\"keys: {data.keys()}\")"
   ]
  },
  {
   "cell_type": "code",
   "execution_count": 11,
   "metadata": {},
   "outputs": [
    {
     "name": "stdout",
     "output_type": "stream",
     "text": [
      "len for each key ['c_gemma_7_train_500.json: 161', 'c_gemma_2_train_500.json: 161', 'b_llama-2-13b-law-gpt_train_500_base.json: 161', 'b_moe7summ__train_500_base.json: 161', 'c_llamantino7summarization_train_500.json: 161', 'c_llama2_13b_summarization_train_500.json: 161', 'c_llamantino13summarization_train_500.json: 161', 'b_llama-2-13b-law-gpt_train_500_chat.json: 161', 'c_llama-2-7b-law-gpt_train_500.json: 161', 'b_llama-2-7b-law-gpt_train_500_base.json: 161', 'b_llamantino7summarization_train_500_base.json: 161', 'b_llamantino13summarization_train_500_base.json: 161', 'c_moe7summ__train_500.json: 161', 'b_llamantino7summarization_train_500_chat.json: 161']\n"
     ]
    }
   ],
   "source": [
    "print(f\"len for each key {[key + ': ' + str(len(data[key])) for key in data.keys()]}\")"
   ]
  },
  {
   "cell_type": "code",
   "execution_count": null,
   "metadata": {},
   "outputs": [],
   "source": []
  }
 ],
 "metadata": {
  "kernelspec": {
   "display_name": "Python 3",
   "language": "python",
   "name": "python3"
  },
  "language_info": {
   "codemirror_mode": {
    "name": "ipython",
    "version": 3
   },
   "file_extension": ".py",
   "mimetype": "text/x-python",
   "name": "python",
   "nbconvert_exporter": "python",
   "pygments_lexer": "ipython3",
   "version": "3.10.13"
  }
 },
 "nbformat": 4,
 "nbformat_minor": 2
}

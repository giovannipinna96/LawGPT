{
 "cells": [
  {
   "cell_type": "markdown",
   "metadata": {},
   "source": [
    "# data exploration dati costituzionale"
   ]
  },
  {
   "cell_type": "code",
   "execution_count": 2,
   "metadata": {},
   "outputs": [],
   "source": [
    "import os"
   ]
  },
  {
   "cell_type": "code",
   "execution_count": 3,
   "metadata": {},
   "outputs": [],
   "source": [
    "ROOT_PATH = \"../data/raw/summarization/dati_cortecostituzionale/\""
   ]
  },
  {
   "cell_type": "code",
   "execution_count": 4,
   "metadata": {},
   "outputs": [],
   "source": [
    "# import os\n",
    "\n",
    "\n",
    "# def read_folders(path):\n",
    "#     folders = []\n",
    "#     for folder in os.listdir(path):\n",
    "#         if os.path.isdir(os.path.join(path, folder)):\n",
    "#             folders.append(folder)\n",
    "#     return folders"
   ]
  },
  {
   "cell_type": "code",
   "execution_count": 5,
   "metadata": {},
   "outputs": [],
   "source": [
    "# print(read_folders(ROOT_PATH))"
   ]
  },
  {
   "cell_type": "code",
   "execution_count": 6,
   "metadata": {},
   "outputs": [],
   "source": [
    "import os\n",
    "\n",
    "\n",
    "def read_files_and_folders(path):\n",
    "    items = []\n",
    "    for item in os.listdir(path):\n",
    "        item_path = os.path.join(path, item)\n",
    "        if os.path.isdir(item_path):\n",
    "            items.extend(read_files_and_folders(item_path))\n",
    "        else:\n",
    "            items.append(item_path)\n",
    "    return items"
   ]
  },
  {
   "cell_type": "code",
   "execution_count": 7,
   "metadata": {},
   "outputs": [
    {
     "name": "stdout",
     "output_type": "stream",
     "text": [
      "['../data/raw/summarization/dati_cortecostituzionale/sitoweb.txt', '../data/raw/summarization/dati_cortecostituzionale/atti_di_promovimento(norme_pendenti)/Cc_Opendata_NormeImpugnate_RegistroOrdinanze_json/Cc_Opendata_NormeImpugnate_RegistroOrdinanze.json', '../data/raw/summarization/dati_cortecostituzionale/atti_di_promovimento(norme_pendenti)/Cc_Opendata_NormeImpugnate_RegistroConflittiPoteri_json/Cc_Opendata_NormeImpugnate_RegistroConflittiPoteri.json', '../data/raw/summarization/dati_cortecostituzionale/atti_di_promovimento(norme_pendenti)/Cc_Opendata_NormeImpugnate_RegistroRicorsi_json/Cc_Opendata_NormeImpugnate_RegistroRicorsi.json', '../data/raw/summarization/dati_cortecostituzionale/atti_di_promovimento(norme_pendenti)/Cc_Opendata_NormeImpugnate_RegistroConflittiEnti_json/Cc_Opendata_NormeImpugnate_RegistroConflittiEnti.json', '../data/raw/summarization/dati_cortecostituzionale/anagrafica_dei_giudici/Cc_Opendata_AnagraficaGiudici_json/Cc_Opendata_AnagraficaGiudici.json', '../data/raw/summarization/dati_cortecostituzionale/archivio_delle_pronunce/P_json2001_oggi/Cc_Opendata_Pronunce_2022_json/Cc_Opendata_Pronunce_2022.json', '../data/raw/summarization/dati_cortecostituzionale/archivio_delle_pronunce/P_json2001_oggi/Cc_Opendata_Pronunce_2018_json/Cc_Opendata_Pronunce_2018.json', '../data/raw/summarization/dati_cortecostituzionale/archivio_delle_pronunce/P_json2001_oggi/Cc_Opendata_Pronunce_2019_json/Cc_Opendata_Pronunce_2019.json', '../data/raw/summarization/dati_cortecostituzionale/archivio_delle_pronunce/P_json2001_oggi/Cc_Opendata_Pronunce_2012_json/Cc_Opendata_Pronunce_2012.json', '../data/raw/summarization/dati_cortecostituzionale/archivio_delle_pronunce/P_json2001_oggi/Cc_Opendata_Pronunce_2020_json/Cc_Opendata_Pronunce_2020.json', '../data/raw/summarization/dati_cortecostituzionale/archivio_delle_pronunce/P_json2001_oggi/Cc_Opendata_Pronunce_2008_json/Cc_Opendata_Pronunce_2008.json', '../data/raw/summarization/dati_cortecostituzionale/archivio_delle_pronunce/P_json2001_oggi/Cc_Opendata_Pronunce_2011_json/Cc_Opendata_Pronunce_2011.json', '../data/raw/summarization/dati_cortecostituzionale/archivio_delle_pronunce/P_json2001_oggi/Cc_Opendata_Pronunce_2007_json/Cc_Opendata_Pronunce_2007.json', '../data/raw/summarization/dati_cortecostituzionale/archivio_delle_pronunce/P_json2001_oggi/Cc_Opendata_Pronunce_2013_json/Cc_Opendata_Pronunce_2013.json', '../data/raw/summarization/dati_cortecostituzionale/archivio_delle_pronunce/P_json2001_oggi/Cc_Opendata_Pronunce_2016_json/Cc_Opendata_Pronunce_2016.json', '../data/raw/summarization/dati_cortecostituzionale/archivio_delle_pronunce/P_json2001_oggi/Cc_Opendata_Pronunce_2023_json/Cc_Opendata_Pronunce_2023.json', '../data/raw/summarization/dati_cortecostituzionale/archivio_delle_pronunce/P_json2001_oggi/Cc_Opendata_Pronunce_2001_json/Cc_Opendata_Pronunce_2001.json', '../data/raw/summarization/dati_cortecostituzionale/archivio_delle_pronunce/P_json2001_oggi/Cc_Opendata_Pronunce_2002_json/Cc_Opendata_Pronunce_2002.json', '../data/raw/summarization/dati_cortecostituzionale/archivio_delle_pronunce/P_json2001_oggi/Cc_Opendata_Pronunce_2004_json/Cc_Opendata_Pronunce_2004.json', '../data/raw/summarization/dati_cortecostituzionale/archivio_delle_pronunce/P_json2001_oggi/Cc_Opendata_Pronunce_2009_json/Cc_Opendata_Pronunce_2009.json', '../data/raw/summarization/dati_cortecostituzionale/archivio_delle_pronunce/P_json2001_oggi/Cc_Opendata_Pronunce_2006_json/Cc_Opendata_Pronunce_2006.json', '../data/raw/summarization/dati_cortecostituzionale/archivio_delle_pronunce/P_json2001_oggi/Cc_Opendata_Pronunce_2015_json/Cc_Opendata_Pronunce_2015.json', '../data/raw/summarization/dati_cortecostituzionale/archivio_delle_pronunce/P_json2001_oggi/Cc_Opendata_Pronunce_2021_json/Cc_Opendata_Pronunce_2021.json', '../data/raw/summarization/dati_cortecostituzionale/archivio_delle_pronunce/P_json2001_oggi/Cc_Opendata_Pronunce_2017_json/Cc_Opendata_Pronunce_2017.json', '../data/raw/summarization/dati_cortecostituzionale/archivio_delle_pronunce/P_json2001_oggi/Cc_Opendata_Pronunce_2005_json/Cc_Opendata_Pronunce_2005.json', '../data/raw/summarization/dati_cortecostituzionale/archivio_delle_pronunce/P_json2001_oggi/Cc_Opendata_Pronunce_2010_json/Cc_Opendata_Pronunce_2010.json', '../data/raw/summarization/dati_cortecostituzionale/archivio_delle_pronunce/P_json2001_oggi/Cc_Opendata_Pronunce_2014_json/Cc_Opendata_Pronunce_2014.json', '../data/raw/summarization/dati_cortecostituzionale/archivio_delle_pronunce/P_json2001_oggi/Cc_Opendata_Pronunce_2003_json/Cc_Opendata_Pronunce_2003.json', '../data/raw/summarization/dati_cortecostituzionale/archivio_delle_pronunce/P_json1956_1980/Cc_Opendata_Pronunce_1963_json/Cc_Opendata_Pronunce_1963.json', '../data/raw/summarization/dati_cortecostituzionale/archivio_delle_pronunce/P_json1956_1980/Cc_Opendata_Pronunce_1971_json/Cc_Opendata_Pronunce_1971.json', '../data/raw/summarization/dati_cortecostituzionale/archivio_delle_pronunce/P_json1956_1980/Cc_Opendata_Pronunce_1977_json/Cc_Opendata_Pronunce_1977.json', '../data/raw/summarization/dati_cortecostituzionale/archivio_delle_pronunce/P_json1956_1980/Cc_Opendata_Pronunce_1957_json/Cc_Opendata_Pronunce_1957.json', '../data/raw/summarization/dati_cortecostituzionale/archivio_delle_pronunce/P_json1956_1980/Cc_Opendata_Pronunce_1959_json/Cc_Opendata_Pronunce_1959.json', '../data/raw/summarization/dati_cortecostituzionale/archivio_delle_pronunce/P_json1956_1980/Cc_Opendata_Pronunce_1970_json/Cc_Opendata_Pronunce_1970.json', '../data/raw/summarization/dati_cortecostituzionale/archivio_delle_pronunce/P_json1956_1980/Cc_Opendata_Pronunce_1956_json/Cc_Opendata_Pronunce_1956.json', '../data/raw/summarization/dati_cortecostituzionale/archivio_delle_pronunce/P_json1956_1980/Cc_Opendata_Pronunce_1966_json/Cc_Opendata_Pronunce_1966.json', '../data/raw/summarization/dati_cortecostituzionale/archivio_delle_pronunce/P_json1956_1980/Cc_Opendata_Pronunce_1980_json/Cc_Opendata_Pronunce_1980.json', '../data/raw/summarization/dati_cortecostituzionale/archivio_delle_pronunce/P_json1956_1980/Cc_Opendata_Pronunce_1973_json/Cc_Opendata_Pronunce_1973.json', '../data/raw/summarization/dati_cortecostituzionale/archivio_delle_pronunce/P_json1956_1980/Cc_Opendata_Pronunce_1960_json/Cc_Opendata_Pronunce_1960.json', '../data/raw/summarization/dati_cortecostituzionale/archivio_delle_pronunce/P_json1956_1980/Cc_Opendata_Pronunce_1975_json/Cc_Opendata_Pronunce_1975.json', '../data/raw/summarization/dati_cortecostituzionale/archivio_delle_pronunce/P_json1956_1980/Cc_Opendata_Pronunce_1968_json/Cc_Opendata_Pronunce_1968.json', '../data/raw/summarization/dati_cortecostituzionale/archivio_delle_pronunce/P_json1956_1980/Cc_Opendata_Pronunce_1958_json/Cc_Opendata_Pronunce_1958.json', '../data/raw/summarization/dati_cortecostituzionale/archivio_delle_pronunce/P_json1956_1980/Cc_Opendata_Pronunce_1961_json/Cc_Opendata_Pronunce_1961.json', '../data/raw/summarization/dati_cortecostituzionale/archivio_delle_pronunce/P_json1956_1980/Cc_Opendata_Pronunce_1969_json/Cc_Opendata_Pronunce_1969.json', '../data/raw/summarization/dati_cortecostituzionale/archivio_delle_pronunce/P_json1956_1980/Cc_Opendata_Pronunce_1967_json/Cc_Opendata_Pronunce_1967.json', '../data/raw/summarization/dati_cortecostituzionale/archivio_delle_pronunce/P_json1956_1980/Cc_Opendata_Pronunce_1974_json/Cc_Opendata_Pronunce_1974.json', '../data/raw/summarization/dati_cortecostituzionale/archivio_delle_pronunce/P_json1956_1980/Cc_Opendata_Pronunce_1962_json/Cc_Opendata_Pronunce_1962.json', '../data/raw/summarization/dati_cortecostituzionale/archivio_delle_pronunce/P_json1956_1980/Cc_Opendata_Pronunce_1979_json/Cc_Opendata_Pronunce_1979.json', '../data/raw/summarization/dati_cortecostituzionale/archivio_delle_pronunce/P_json1956_1980/Cc_Opendata_Pronunce_1976_json/Cc_Opendata_Pronunce_1976.json', '../data/raw/summarization/dati_cortecostituzionale/archivio_delle_pronunce/P_json1956_1980/Cc_Opendata_Pronunce_1972_json/Cc_Opendata_Pronunce_1972.json', '../data/raw/summarization/dati_cortecostituzionale/archivio_delle_pronunce/P_json1956_1980/Cc_Opendata_Pronunce_1978_json/Cc_Opendata_Pronunce_1978.json', '../data/raw/summarization/dati_cortecostituzionale/archivio_delle_pronunce/P_json1956_1980/Cc_Opendata_Pronunce_1964_json/Cc_Opendata_Pronunce_1964.json', '../data/raw/summarization/dati_cortecostituzionale/archivio_delle_pronunce/P_json1956_1980/Cc_Opendata_Pronunce_1965_json/Cc_Opendata_Pronunce_1965.json', '../data/raw/summarization/dati_cortecostituzionale/archivio_delle_pronunce/P_json1981_2000/Cc_Opendata_Pronunce_1985_json/Cc_Opendata_Pronunce_1985.json', '../data/raw/summarization/dati_cortecostituzionale/archivio_delle_pronunce/P_json1981_2000/Cc_Opendata_Pronunce_1997_json/Cc_Opendata_Pronunce_1997.json', '../data/raw/summarization/dati_cortecostituzionale/archivio_delle_pronunce/P_json1981_2000/Cc_Opendata_Pronunce_1983_json/Cc_Opendata_Pronunce_1983.json', '../data/raw/summarization/dati_cortecostituzionale/archivio_delle_pronunce/P_json1981_2000/Cc_Opendata_Pronunce_1987_json/Cc_Opendata_Pronunce_1987.json', '../data/raw/summarization/dati_cortecostituzionale/archivio_delle_pronunce/P_json1981_2000/Cc_Opendata_Pronunce_1984_json/Cc_Opendata_Pronunce_1984.json', '../data/raw/summarization/dati_cortecostituzionale/archivio_delle_pronunce/P_json1981_2000/Cc_Opendata_Pronunce_1996_json/Cc_Opendata_Pronunce_1996.json', '../data/raw/summarization/dati_cortecostituzionale/archivio_delle_pronunce/P_json1981_2000/Cc_Opendata_Pronunce_1989_json/Cc_Opendata_Pronunce_1989.json', '../data/raw/summarization/dati_cortecostituzionale/archivio_delle_pronunce/P_json1981_2000/Cc_Opendata_Pronunce_1982_json/Cc_Opendata_Pronunce_1982.json', '../data/raw/summarization/dati_cortecostituzionale/archivio_delle_pronunce/P_json1981_2000/Cc_Opendata_Pronunce_1994_json/Cc_Opendata_Pronunce_1994.json', '../data/raw/summarization/dati_cortecostituzionale/archivio_delle_pronunce/P_json1981_2000/Cc_Opendata_Pronunce_1990_json/Cc_Opendata_Pronunce_1990.json', '../data/raw/summarization/dati_cortecostituzionale/archivio_delle_pronunce/P_json1981_2000/Cc_Opendata_Pronunce_1999_json/Cc_Opendata_Pronunce_1999.json', '../data/raw/summarization/dati_cortecostituzionale/archivio_delle_pronunce/P_json1981_2000/Cc_Opendata_Pronunce_1992_json/Cc_Opendata_Pronunce_1992.json', '../data/raw/summarization/dati_cortecostituzionale/archivio_delle_pronunce/P_json1981_2000/Cc_Opendata_Pronunce_1991_json/Cc_Opendata_Pronunce_1991.json', '../data/raw/summarization/dati_cortecostituzionale/archivio_delle_pronunce/P_json1981_2000/Cc_Opendata_Pronunce_1986_json/Cc_Opendata_Pronunce_1986.json', '../data/raw/summarization/dati_cortecostituzionale/archivio_delle_pronunce/P_json1981_2000/Cc_Opendata_Pronunce_1995_json/Cc_Opendata_Pronunce_1995.json', '../data/raw/summarization/dati_cortecostituzionale/archivio_delle_pronunce/P_json1981_2000/Cc_Opendata_Pronunce_1981_json/Cc_Opendata_Pronunce_1981.json', '../data/raw/summarization/dati_cortecostituzionale/archivio_delle_pronunce/P_json1981_2000/Cc_Opendata_Pronunce_1988_json/Cc_Opendata_Pronunce_1988.json', '../data/raw/summarization/dati_cortecostituzionale/archivio_delle_pronunce/P_json1981_2000/Cc_Opendata_Pronunce_1998_json/Cc_Opendata_Pronunce_1998.json', '../data/raw/summarization/dati_cortecostituzionale/archivio_delle_pronunce/P_json1981_2000/Cc_Opendata_Pronunce_1993_json/Cc_Opendata_Pronunce_1993.json', '../data/raw/summarization/dati_cortecostituzionale/archivio_delle_pronunce/P_json1981_2000/Cc_Opendata_Pronunce_2000_json/Cc_Opendata_Pronunce_2000.json', '../data/raw/summarization/dati_cortecostituzionale/archivio_delle_massime/CC_M_1981_2000_json/Cc_OpenData_Massime_1992_json/Cc_OpenData_Massime_1992.json', '../data/raw/summarization/dati_cortecostituzionale/archivio_delle_massime/CC_M_1981_2000_json/Cc_OpenData_Massime_1989_json/Cc_OpenData_Massime_1989.json', '../data/raw/summarization/dati_cortecostituzionale/archivio_delle_massime/CC_M_1981_2000_json/Cc_OpenData_Massime_1988_json/Cc_OpenData_Massime_1988.json', '../data/raw/summarization/dati_cortecostituzionale/archivio_delle_massime/CC_M_1981_2000_json/Cc_OpenData_Massime_1984_json/Cc_OpenData_Massime_1984.json', '../data/raw/summarization/dati_cortecostituzionale/archivio_delle_massime/CC_M_1981_2000_json/Cc_OpenData_Massime_1982_json/Cc_OpenData_Massime_1982.json', '../data/raw/summarization/dati_cortecostituzionale/archivio_delle_massime/CC_M_1981_2000_json/Cc_OpenData_Massime_1985_json/Cc_OpenData_Massime_1985.json', '../data/raw/summarization/dati_cortecostituzionale/archivio_delle_massime/CC_M_1981_2000_json/Cc_OpenData_Massime_1987_json/Cc_OpenData_Massime_1987.json', '../data/raw/summarization/dati_cortecostituzionale/archivio_delle_massime/CC_M_1981_2000_json/Cc_OpenData_Massime_1993_json/Cc_OpenData_Massime_1993.json', '../data/raw/summarization/dati_cortecostituzionale/archivio_delle_massime/CC_M_1981_2000_json/Cc_OpenData_Massime_1981_json/Cc_OpenData_Massime_1981.json', '../data/raw/summarization/dati_cortecostituzionale/archivio_delle_massime/CC_M_1981_2000_json/Cc_OpenData_Massime_1986_json/Cc_OpenData_Massime_1986.json', '../data/raw/summarization/dati_cortecostituzionale/archivio_delle_massime/CC_M_1981_2000_json/Cc_OpenData_Massime_1991_json/Cc_OpenData_Massime_1991.json', '../data/raw/summarization/dati_cortecostituzionale/archivio_delle_massime/CC_M_1981_2000_json/Cc_OpenData_Massime_1999_json/Cc_OpenData_Massime_1999.json', '../data/raw/summarization/dati_cortecostituzionale/archivio_delle_massime/CC_M_1981_2000_json/Cc_OpenData_Massime_1983_json/Cc_OpenData_Massime_1983.json', '../data/raw/summarization/dati_cortecostituzionale/archivio_delle_massime/CC_M_1981_2000_json/Cc_OpenData_Massime_1996_json/Cc_OpenData_Massime_1996.json', '../data/raw/summarization/dati_cortecostituzionale/archivio_delle_massime/CC_M_1981_2000_json/Cc_OpenData_Massime_1990_json/Cc_OpenData_Massime_1990.json', '../data/raw/summarization/dati_cortecostituzionale/archivio_delle_massime/CC_M_1981_2000_json/Cc_OpenData_Massime_1997_json/Cc_OpenData_Massime_1997.json', '../data/raw/summarization/dati_cortecostituzionale/archivio_delle_massime/CC_M_1981_2000_json/Cc_OpenData_Massime_1998_json/Cc_OpenData_Massime_1998.json', '../data/raw/summarization/dati_cortecostituzionale/archivio_delle_massime/CC_M_1981_2000_json/Cc_OpenData_Massime_1994_json/Cc_OpenData_Massime_1994.json', '../data/raw/summarization/dati_cortecostituzionale/archivio_delle_massime/CC_M_1981_2000_json/Cc_OpenData_Massime_2000_json/Cc_OpenData_Massime_2000.json', '../data/raw/summarization/dati_cortecostituzionale/archivio_delle_massime/CC_M_1981_2000_json/Cc_OpenData_Massime_1995_json/Cc_OpenData_Massime_1995.json', '../data/raw/summarization/dati_cortecostituzionale/archivio_delle_massime/CC_M_2001_2015_json/Cc_OpenData_Massime_2019_json/Cc_OpenData_Massime_2019.json', '../data/raw/summarization/dati_cortecostituzionale/archivio_delle_massime/CC_M_2001_2015_json/Cc_OpenData_Massime_2015_json/Cc_OpenData_Massime_2015.json', '../data/raw/summarization/dati_cortecostituzionale/archivio_delle_massime/CC_M_2001_2015_json/Cc_OpenData_Massime_2022_json/Cc_OpenData_Massime_2022.json', '../data/raw/summarization/dati_cortecostituzionale/archivio_delle_massime/CC_M_2001_2015_json/Cc_OpenData_Massime_2018_json/Cc_OpenData_Massime_2018.json', '../data/raw/summarization/dati_cortecostituzionale/archivio_delle_massime/CC_M_2001_2015_json/Cc_OpenData_Massime_2010_json/Cc_OpenData_Massime_2010.json', '../data/raw/summarization/dati_cortecostituzionale/archivio_delle_massime/CC_M_2001_2015_json/Cc_OpenData_Massime_2005_json/Cc_OpenData_Massime_2005.json', '../data/raw/summarization/dati_cortecostituzionale/archivio_delle_massime/CC_M_2001_2015_json/Cc_OpenData_Massime_2016_json/Cc_OpenData_Massime_2016.json', '../data/raw/summarization/dati_cortecostituzionale/archivio_delle_massime/CC_M_2001_2015_json/Cc_OpenData_Massime_2012_json/Cc_OpenData_Massime_2012.json', '../data/raw/summarization/dati_cortecostituzionale/archivio_delle_massime/CC_M_2001_2015_json/Cc_OpenData_Massime_2021_json/Cc_OpenData_Massime_2021.json', '../data/raw/summarization/dati_cortecostituzionale/archivio_delle_massime/CC_M_2001_2015_json/Cc_OpenData_Massime_2007_json/Cc_OpenData_Massime_2007.json', '../data/raw/summarization/dati_cortecostituzionale/archivio_delle_massime/CC_M_2001_2015_json/Cc_OpenData_Massime_2008_json/Cc_OpenData_Massime_2008.json', '../data/raw/summarization/dati_cortecostituzionale/archivio_delle_massime/CC_M_2001_2015_json/Cc_OpenData_Massime_2006_json/Cc_OpenData_Massime_2006.json', '../data/raw/summarization/dati_cortecostituzionale/archivio_delle_massime/CC_M_2001_2015_json/Cc_OpenData_Massime_2014_json/Cc_OpenData_Massime_2014.json', '../data/raw/summarization/dati_cortecostituzionale/archivio_delle_massime/CC_M_2001_2015_json/Cc_OpenData_Massime_2002_json/Cc_OpenData_Massime_2002.json', '../data/raw/summarization/dati_cortecostituzionale/archivio_delle_massime/CC_M_2001_2015_json/Cc_OpenData_Massime_2009_json/Cc_OpenData_Massime_2009.json', '../data/raw/summarization/dati_cortecostituzionale/archivio_delle_massime/CC_M_2001_2015_json/Cc_OpenData_Massime_2003_json/Cc_OpenData_Massime_2003.json', '../data/raw/summarization/dati_cortecostituzionale/archivio_delle_massime/CC_M_2001_2015_json/Cc_OpenData_Massime_2023_json/Cc_OpenData_Massime_2023.json', '../data/raw/summarization/dati_cortecostituzionale/archivio_delle_massime/CC_M_2001_2015_json/Cc_OpenData_Massime_2020_json/Cc_OpenData_Massime_2020.json', '../data/raw/summarization/dati_cortecostituzionale/archivio_delle_massime/CC_M_2001_2015_json/Cc_OpenData_Massime_2017_json/Cc_OpenData_Massime_2017.json', '../data/raw/summarization/dati_cortecostituzionale/archivio_delle_massime/CC_M_2001_2015_json/Cc_OpenData_Massime_2011_json/Cc_OpenData_Massime_2011.json', '../data/raw/summarization/dati_cortecostituzionale/archivio_delle_massime/CC_M_2001_2015_json/Cc_OpenData_Massime_2004_json/Cc_OpenData_Massime_2004.json', '../data/raw/summarization/dati_cortecostituzionale/archivio_delle_massime/CC_M_2001_2015_json/Cc_OpenData_Massime_2001_json/Cc_OpenData_Massime_2001.json', '../data/raw/summarization/dati_cortecostituzionale/archivio_delle_massime/CC_M_2001_2015_json/Cc_OpenData_Massime_2013_json/Cc_OpenData_Massime_2013.json', '../data/raw/summarization/dati_cortecostituzionale/archivio_delle_massime/CC_M_1956_1980_json/Cc_OpenData_Massime_1979_json/Cc_OpenData_Massime_1979.json', '../data/raw/summarization/dati_cortecostituzionale/archivio_delle_massime/CC_M_1956_1980_json/Cc_OpenData_Massime_1976_json/Cc_OpenData_Massime_1976.json', '../data/raw/summarization/dati_cortecostituzionale/archivio_delle_massime/CC_M_1956_1980_json/Cc_OpenData_Massime_1975_json/Cc_OpenData_Massime_1975.json', '../data/raw/summarization/dati_cortecostituzionale/archivio_delle_massime/CC_M_1956_1980_json/Cc_OpenData_Massime_1963_json/Cc_OpenData_Massime_1963.json', '../data/raw/summarization/dati_cortecostituzionale/archivio_delle_massime/CC_M_1956_1980_json/Cc_OpenData_Massime_1965_json/Cc_OpenData_Massime_1965.json', '../data/raw/summarization/dati_cortecostituzionale/archivio_delle_massime/CC_M_1956_1980_json/Cc_OpenData_Massime_1964_json/Cc_OpenData_Massime_1964.json', '../data/raw/summarization/dati_cortecostituzionale/archivio_delle_massime/CC_M_1956_1980_json/Cc_OpenData_Massime_1967_json/Cc_OpenData_Massime_1967.json', '../data/raw/summarization/dati_cortecostituzionale/archivio_delle_massime/CC_M_1956_1980_json/Cc_OpenData_Massime_1972_json/Cc_OpenData_Massime_1972.json', '../data/raw/summarization/dati_cortecostituzionale/archivio_delle_massime/CC_M_1956_1980_json/Cc_OpenData_Massime_1956_json/Cc_OpenData_Massime_1956.json', '../data/raw/summarization/dati_cortecostituzionale/archivio_delle_massime/CC_M_1956_1980_json/Cc_OpenData_Massime_1969_json/Cc_OpenData_Massime_1969.json', '../data/raw/summarization/dati_cortecostituzionale/archivio_delle_massime/CC_M_1956_1980_json/Cc_OpenData_Massime_1957_json/Cc_OpenData_Massime_1957.json', '../data/raw/summarization/dati_cortecostituzionale/archivio_delle_massime/CC_M_1956_1980_json/Cc_OpenData_Massime_1973_json/Cc_OpenData_Massime_1973.json', '../data/raw/summarization/dati_cortecostituzionale/archivio_delle_massime/CC_M_1956_1980_json/Cc_OpenData_Massime_1961_json/Cc_OpenData_Massime_1961.json', '../data/raw/summarization/dati_cortecostituzionale/archivio_delle_massime/CC_M_1956_1980_json/Cc_OpenData_Massime_1974_json/Cc_OpenData_Massime_1974.json', '../data/raw/summarization/dati_cortecostituzionale/archivio_delle_massime/CC_M_1956_1980_json/Cc_OpenData_Massime_1971_json/Cc_OpenData_Massime_1971.json', '../data/raw/summarization/dati_cortecostituzionale/archivio_delle_massime/CC_M_1956_1980_json/Cc_OpenData_Massime_1980_json/Cc_OpenData_Massime_1980.json', '../data/raw/summarization/dati_cortecostituzionale/archivio_delle_massime/CC_M_1956_1980_json/Cc_OpenData_Massime_1960_json/Cc_OpenData_Massime_1960.json', '../data/raw/summarization/dati_cortecostituzionale/archivio_delle_massime/CC_M_1956_1980_json/Cc_OpenData_Massime_1970_json/Cc_OpenData_Massime_1970.json', '../data/raw/summarization/dati_cortecostituzionale/archivio_delle_massime/CC_M_1956_1980_json/Cc_OpenData_Massime_1959_json/Cc_OpenData_Massime_1959.json', '../data/raw/summarization/dati_cortecostituzionale/archivio_delle_massime/CC_M_1956_1980_json/Cc_OpenData_Massime_1966_json/Cc_OpenData_Massime_1966.json', '../data/raw/summarization/dati_cortecostituzionale/archivio_delle_massime/CC_M_1956_1980_json/Cc_OpenData_Massime_1962_json/Cc_OpenData_Massime_1962.json', '../data/raw/summarization/dati_cortecostituzionale/archivio_delle_massime/CC_M_1956_1980_json/Cc_OpenData_Massime_1958_json/Cc_OpenData_Massime_1958.json', '../data/raw/summarization/dati_cortecostituzionale/archivio_delle_massime/CC_M_1956_1980_json/Cc_OpenData_Massime_1978_json/Cc_OpenData_Massime_1978.json', '../data/raw/summarization/dati_cortecostituzionale/archivio_delle_massime/CC_M_1956_1980_json/Cc_OpenData_Massime_1968_json/Cc_OpenData_Massime_1968.json', '../data/raw/summarization/dati_cortecostituzionale/archivio_delle_massime/CC_M_1956_1980_json/Cc_OpenData_Massime_1977_json/Cc_OpenData_Massime_1977.json']\n"
     ]
    }
   ],
   "source": [
    "print(read_files_and_folders(ROOT_PATH))"
   ]
  },
  {
   "cell_type": "markdown",
   "metadata": {},
   "source": [
    "## design a way to aggrageate the data in a single destination folder"
   ]
  },
  {
   "cell_type": "code",
   "execution_count": 8,
   "metadata": {},
   "outputs": [],
   "source": [
    "DESTINATION_PATH = \"../data/external/dati_corte_costituzionale/\""
   ]
  },
  {
   "cell_type": "code",
   "execution_count": 9,
   "metadata": {},
   "outputs": [],
   "source": [
    "import os\n",
    "\n",
    "\n",
    "def create_folder_if_not_exists(folder_path):\n",
    "    if not os.path.exists(folder_path):\n",
    "        os.makedirs(folder_path)\n",
    "        print(f\"Folder '{folder_path}' created.\")\n",
    "    else:\n",
    "        print(f\"Folder '{folder_path}' already exists.\")"
   ]
  },
  {
   "cell_type": "code",
   "execution_count": 10,
   "metadata": {},
   "outputs": [
    {
     "name": "stdout",
     "output_type": "stream",
     "text": [
      "Folder '../data/external/dati_corte_costituzionale/' already exists.\n"
     ]
    }
   ],
   "source": [
    "create_folder_if_not_exists(DESTINATION_PATH)"
   ]
  },
  {
   "cell_type": "code",
   "execution_count": 11,
   "metadata": {},
   "outputs": [
    {
     "name": "stdout",
     "output_type": "stream",
     "text": [
      "Folder '../data/external/dati_corte_costituzionale/' already exists.\n"
     ]
    }
   ],
   "source": [
    "# try to repeat\n",
    "create_folder_if_not_exists(DESTINATION_PATH)  # ok è corretto"
   ]
  },
  {
   "cell_type": "code",
   "execution_count": 12,
   "metadata": {},
   "outputs": [
    {
     "name": "stdout",
     "output_type": "stream",
     "text": [
      "Folder '../data/external/dati_corte_costituzionale/massime' already exists.\n",
      "Folder '../data/external/dati_corte_costituzionale/pronunce' already exists.\n"
     ]
    }
   ],
   "source": [
    "# path distinction between massime and prounce\n",
    "\n",
    "PATH_MASSIME = os.path.join(DESTINATION_PATH, \"massime\")\n",
    "PATH_PRONUNCIE = os.path.join(DESTINATION_PATH, \"pronunce\")\n",
    "\n",
    "create_folder_if_not_exists(PATH_MASSIME)\n",
    "create_folder_if_not_exists(PATH_PRONUNCIE)"
   ]
  },
  {
   "cell_type": "code",
   "execution_count": 13,
   "metadata": {},
   "outputs": [],
   "source": [
    "import os\n",
    "import shutil\n",
    "\n",
    "\n",
    "def copy_files(source_dir, dest_dir, verbose=False):\n",
    "    for root, dirs, files in os.walk(source_dir):\n",
    "        for file in files:\n",
    "            source_path = os.path.join(root, file)\n",
    "            dest_path = os.path.join(dest_dir, file)\n",
    "            shutil.copy2(source_path, dest_path)\n",
    "            print(\n",
    "                f\"File copied: {source_path} -> {dest_path}\") if verbose else None"
   ]
  },
  {
   "cell_type": "code",
   "execution_count": 14,
   "metadata": {},
   "outputs": [],
   "source": [
    "copy_files(os.path.join(ROOT_PATH, \"archivio_delle_massime/\"), PATH_MASSIME)"
   ]
  },
  {
   "cell_type": "code",
   "execution_count": 15,
   "metadata": {},
   "outputs": [],
   "source": [
    "copy_files(os.path.join(ROOT_PATH, \"archivio_delle_pronunce/\"), PATH_PRONUNCIE)"
   ]
  },
  {
   "cell_type": "code",
   "execution_count": 23,
   "metadata": {},
   "outputs": [
    {
     "name": "stdout",
     "output_type": "stream",
     "text": [
      "Failed with encoding utf-8: 'utf-8' codec can't decode byte 0xc0 in position 109: invalid start byte\n"
     ]
    }
   ],
   "source": [
    "import pandas as pd\n",
    "\n",
    "# Try reading the file with different encodings\n",
    "possible_encodings = [\"utf-8\", \"latin-1\", \"iso-8859-1\"]\n",
    "\n",
    "for encoding in possible_encodings:\n",
    "    try:\n",
    "        data = pd.read_json(\n",
    "            os.path.join(PATH_MASSIME, \"Cc_OpenData_Massime_1956.json\"),\n",
    "            encoding=encoding,\n",
    "        )\n",
    "        # If successful, break the loop\n",
    "        break\n",
    "    except Exception as e:\n",
    "        print(f\"Failed with encoding {encoding}: {e}\")"
   ]
  },
  {
   "cell_type": "code",
   "execution_count": 25,
   "metadata": {},
   "outputs": [
    {
     "data": {
      "text/html": [
       "<div>\n",
       "<style scoped>\n",
       "    .dataframe tbody tr th:only-of-type {\n",
       "        vertical-align: middle;\n",
       "    }\n",
       "\n",
       "    .dataframe tbody tr th {\n",
       "        vertical-align: top;\n",
       "    }\n",
       "\n",
       "    .dataframe thead th {\n",
       "        text-align: right;\n",
       "    }\n",
       "</style>\n",
       "<table border=\"1\" class=\"dataframe\">\n",
       "  <thead>\n",
       "    <tr style=\"text-align: right;\">\n",
       "      <th></th>\n",
       "      <th>corte_costituzionale_archiviomassime</th>\n",
       "    </tr>\n",
       "  </thead>\n",
       "  <tbody>\n",
       "    <tr>\n",
       "      <th>0</th>\n",
       "      <td>{'numero_pronuncia': '1', 'tipologia_giudizio'...</td>\n",
       "    </tr>\n",
       "    <tr>\n",
       "      <th>1</th>\n",
       "      <td>{'numero_pronuncia': '2', 'tipologia_giudizio'...</td>\n",
       "    </tr>\n",
       "    <tr>\n",
       "      <th>2</th>\n",
       "      <td>{'numero_pronuncia': '3', 'tipologia_giudizio'...</td>\n",
       "    </tr>\n",
       "    <tr>\n",
       "      <th>3</th>\n",
       "      <td>{'numero_pronuncia': '4', 'tipologia_giudizio'...</td>\n",
       "    </tr>\n",
       "    <tr>\n",
       "      <th>4</th>\n",
       "      <td>{'numero_pronuncia': '5', 'tipologia_giudizio'...</td>\n",
       "    </tr>\n",
       "  </tbody>\n",
       "</table>\n",
       "</div>"
      ],
      "text/plain": [
       "                corte_costituzionale_archiviomassime\n",
       "0  {'numero_pronuncia': '1', 'tipologia_giudizio'...\n",
       "1  {'numero_pronuncia': '2', 'tipologia_giudizio'...\n",
       "2  {'numero_pronuncia': '3', 'tipologia_giudizio'...\n",
       "3  {'numero_pronuncia': '4', 'tipologia_giudizio'...\n",
       "4  {'numero_pronuncia': '5', 'tipologia_giudizio'..."
      ]
     },
     "execution_count": 25,
     "metadata": {},
     "output_type": "execute_result"
    }
   ],
   "source": [
    "data.head()"
   ]
  },
  {
   "cell_type": "code",
   "execution_count": 28,
   "metadata": {},
   "outputs": [
    {
     "name": "stdout",
     "output_type": "stream",
     "text": [
      "<class 'pandas.core.frame.DataFrame'>\n",
      "RangeIndex: 34 entries, 0 to 33\n",
      "Data columns (total 1 columns):\n",
      " #   Column                                Non-Null Count  Dtype \n",
      "---  ------                                --------------  ----- \n",
      " 0   corte_costituzionale_archiviomassime  34 non-null     object\n",
      "dtypes: object(1)\n",
      "memory usage: 400.0+ bytes\n"
     ]
    }
   ],
   "source": [
    "data.info()"
   ]
  },
  {
   "cell_type": "code",
   "execution_count": 31,
   "metadata": {},
   "outputs": [
    {
     "data": {
      "text/plain": [
       "{'numero_pronuncia': '1',\n",
       " 'tipologia_giudizio': 'GIUDIZIO DI LEGITTIMITÀ COSTITUZIONALE IN VIA INCIDENTALE',\n",
       " 'data_deposito': '14/06/1956',\n",
       " 'anno_pronuncia': '1956',\n",
       " 'data_decisione': '05/06/1956',\n",
       " 'massime': [{'titolo': \"SENT.  1/56  A.  GIUDIZIO  DI  LEGITTIMITA' COSTITUZIONALE IN VIA INCIDENTALE  -  INTERVENTO DEL PRESIDENTE DEL CONSIGLIO - NATURA.\",\n",
       "   'numero': '1',\n",
       "   'parametri': [{'specificazione_articolo': '',\n",
       "     'descrizione': 'legge',\n",
       "     'comma': '',\n",
       "     'numero': '87',\n",
       "     'data': '11/03/1953',\n",
       "     'articolo': '23',\n",
       "     'specificazione_comma': ''},\n",
       "    {'specificazione_articolo': '',\n",
       "     'descrizione': 'legge',\n",
       "     'comma': '',\n",
       "     'numero': '87',\n",
       "     'data': '11/03/1953',\n",
       "     'articolo': '25',\n",
       "     'specificazione_comma': ''},\n",
       "    {'specificazione_articolo': '',\n",
       "     'descrizione': 'norme integrative per i giudizi davanti alla Corte costituzionale (16/3/1956 e s.m.)',\n",
       "     'comma': '',\n",
       "     'numero': '',\n",
       "     'data': '',\n",
       "     'articolo': '4',\n",
       "     'specificazione_comma': ''}],\n",
       "   'testo': 'L\\'intervento   del   Presidente  del  Consiglio  nei  giudizi  di legittimita\\'  costituzionale,  promossi  in  via  incidentale, si distingue  da  qualsiasi altra forma di intervento prevista dalle norme  processuali  civili  o  amministrative,  in  quanto  ha un carattere  suo  proprio  in  relazione al duplice effetto  che la pronuncia  della  Corte costituzionale e\\' destinata ad avere, sia specificamente  per  la  causa in corso, sia, generalmente, \"erga omnes\".'},\n",
       "  {'titolo': \"SENT.  1/56  B.  GIUDIZIO  DI  LEGITTIMITA' COSTITUZIONALE IN VIA INCIDENTALE  -  MATERIE  DI  COMPETENZA  DI  SINGOLI  MINISTERI - INTERVENTO  DEL PRESIDENTE DEL CONSIGLIO.\",\n",
       "   'numero': '2',\n",
       "   'parametri': [{'specificazione_articolo': '',\n",
       "     'descrizione': 'legge',\n",
       "     'comma': '',\n",
       "     'numero': '87',\n",
       "     'data': '11/03/1953',\n",
       "     'articolo': '23',\n",
       "     'specificazione_comma': ''},\n",
       "    {'specificazione_articolo': '',\n",
       "     'descrizione': 'legge',\n",
       "     'comma': '',\n",
       "     'numero': '87',\n",
       "     'data': '11/03/1953',\n",
       "     'articolo': '25',\n",
       "     'specificazione_comma': ''},\n",
       "    {'specificazione_articolo': '',\n",
       "     'descrizione': 'norme integrative per i giudizi davanti alla Corte costituzionale (16/3/1956 e s.m.)',\n",
       "     'comma': '',\n",
       "     'numero': '',\n",
       "     'data': '',\n",
       "     'articolo': '4',\n",
       "     'specificazione_comma': ''}],\n",
       "   'testo': \"La   facolta'   di  intervento,  nel  giudizio   di  legittimita' costituzionale  promosso in via incidentale, spetta al Presidente del  Consiglio  dei Ministri anche se la legge impugnata concerne materie di competenza dei singoli ministeri.\"},\n",
       "  {'titolo': \"SENT.  1/56  C.  GIUDIZIO  DI  LEGITTIMITA' COSTITUZIONALE IN VIA INCIDENTALE  -  ILLEGITTIMITA'  COSTITUZIONALE  -  ABROGAZIONE  - DIFFERENZE - LEGGI ANTERIORI ALLA COSTITUZIONE.\",\n",
       "   'numero': '3',\n",
       "   'norme': [{'specificazione_articolo': '',\n",
       "     'descrizione': 'disposizioni sulla legge in generale',\n",
       "     'comma': '',\n",
       "     'numero': '',\n",
       "     'data': '',\n",
       "     'articolo': '15',\n",
       "     'specificazione_comma': ''}],\n",
       "   'parametri': [{'specificazione_articolo': '',\n",
       "     'descrizione': 'Costituzione',\n",
       "     'comma': '',\n",
       "     'numero': '',\n",
       "     'data': '',\n",
       "     'articolo': '136',\n",
       "     'specificazione_comma': ''},\n",
       "    {'specificazione_articolo': '',\n",
       "     'descrizione': 'legge',\n",
       "     'comma': '',\n",
       "     'numero': '87',\n",
       "     'data': '11/03/1953',\n",
       "     'articolo': '30',\n",
       "     'specificazione_comma': ''}],\n",
       "   'testo': \"I  due  istituti giuridici dell'abrogazione e dell'illegittimita' costituzionale   delle  leggi  non  sono  identici  fra  loro, si muovono  su  piani  diversi, con effetti diversi e con competenze diverse.  Il campo dell'abrogazione inoltre e' piu' ristretto, in confronto  di  quello  della  illegittimita' costituzionale, ed i requisiti    richiesti   perche'   si   abbia   abrogazione   per incompatibilita'  sono  molto piu' limitati di quelli che possano consentire  la  dichiarazione  di  illegittimita'  di  una legge. Pertanto,  e'  necessario  tener  presente  tutto cio' al fine di stabilire  se  ed  in  quali  casi,  per  le  leggi anteriori, il contrasto   con   norme  della  Costituzione  sopravvenuta  possa configurare  un  problema  di abrogazione per incompatibilita' da risolvere alla stregua dei principi generali fissati nell'art. 15 delle disp. prel. al cod. civ..\"},\n",
       "  {'titolo': \"SENT.  1/56  D.  GIUDIZIO  DI  LEGITTIMITA' COSTITUZIONALE IN VIA INCIDENTALE  -  LEGGI  ANTERIORI  ALLA  COSTITUZIONE - COMPETENZA ESCLUSIVA DELLA CORTE.\",\n",
       "   'numero': '4',\n",
       "   'parametri': [{'specificazione_articolo': '',\n",
       "     'descrizione': 'Costituzione',\n",
       "     'comma': '',\n",
       "     'numero': '',\n",
       "     'data': '',\n",
       "     'articolo': '134',\n",
       "     'specificazione_comma': ''},\n",
       "    {'specificazione_articolo': '',\n",
       "     'descrizione': 'legge costituzionale',\n",
       "     'comma': '',\n",
       "     'numero': '1',\n",
       "     'data': '09/02/1948',\n",
       "     'articolo': '1',\n",
       "     'specificazione_comma': ''}],\n",
       "   'testo': \"La   Corte   e'   competente    a  giudicare  della  legittimita' costituzionale   delle   leggi   sia   posteriori  che  anteriori all'entrata  in  vigore  della Costituzione. (Principio affermato con  riferimento  alla  questione  di legittimita' costituzionale dell'art.  113  T.U.  delle  leggi  di p.s. approvato con R.D. 18 giugno  1931,  n.  773,  che  subordina al rilascio della licenza dell'autorita'  locale  di  p.s.  la  distribuzione,  la messa in circolazione  o  l'affissione  in  luogo  pubblico  o  aperto  al pubblico di scritti o disegni o giornali).\"},\n",
       "  {'titolo': \"SENT.  1/56 E. COSTITUZIONE DELLA REPUBBLICA - NORME PRECETTIVE E PROGRAMMATICHE  -  DIVERSA RILEVANZA AL FINE DELL'ABROGAZIONE E A QUELLO DELLA ILLEGITTIMITA' COSTITUZIONALE.\",\n",
       "   'numero': '5',\n",
       "   'parametri': [{'specificazione_articolo': '',\n",
       "     'descrizione': 'Costituzione',\n",
       "     'comma': '',\n",
       "     'numero': '',\n",
       "     'data': '',\n",
       "     'articolo': '134',\n",
       "     'specificazione_comma': ''},\n",
       "    {'specificazione_articolo': '',\n",
       "     'descrizione': 'Costituzione',\n",
       "     'comma': '',\n",
       "     'numero': '',\n",
       "     'data': '',\n",
       "     'articolo': '136',\n",
       "     'specificazione_comma': ''}],\n",
       "   'testo': \"La  distinzione  fra norme precettive e norme programmatiche puo' essere  determinante per decidere della abrogazione o meno di una legge,   ma   non   e'  decisiva  nei   giudizi  di  legittimita' costituzionale,  potendo  la illegittimita' costituzionale di una legge   derivare,   in   determinati  casi, anche  dalla  sua non conciliabilita' con norme che si dicono programmatiche,tanto piu' che   in   questa   categoria   sogliono  essere  comprese  norme costituzionali di contenuto diverso.\"},\n",
       "  {'titolo': \"SENT. 1/56 F. DIRITTI ATTRIBUITI DA NORME GIURIDICHE - DISCIPLINA DELLE  MODALITA' DI ESERCIZIO - LIMITI - NON NE COSTITUISCONO, DI PER SE', NEGAZIONE O VIOLAZIONE.\",\n",
       "   'numero': '6',\n",
       "   'testo': \"In  via  generale la norma che attribuisce un diritto non esclude il  regolamento  dell'esercizio  di  esso.  Una  disciplina delle modalita'  di esercizio di un diritto, in modo che l'attivita' di un  individuo,  rivolta  al  perseguimento  dei  propri  fini, si concili  con  il  perseguimento dei fini degli altri, - pur con i limiti,  insiti  del  resto  nel  concetto stesso di diritto, che possono derivarne - non sarebbe percio' da considerare di per se' violazione o negazione del diritto.\"},\n",
       "  {'titolo': \"SENT.  1/56 G. LIBERTA' DI PENSIERO - MANIFESTAZIONE DEL PENSIERO E  DIVULGAZIONE  DEL PENSIERO DICHIARATO - ASSERITA DISTINZIONE - IRRILEVANZA SUL PIANO COSTITUZIONALE.\",\n",
       "   'numero': '7',\n",
       "   'parametri': [{'specificazione_articolo': '',\n",
       "     'descrizione': 'Costituzione',\n",
       "     'comma': '',\n",
       "     'numero': '',\n",
       "     'data': '',\n",
       "     'articolo': '21',\n",
       "     'specificazione_comma': ''}],\n",
       "   'testo': \"Una distinzione fra manifestazione del pensiero, di cui l'art. 21 Cost.   proclama   la   liberta',  e  divulgazione  del  pensiero dichiarato,   non  puo'  ritenersi  consentita  da  alcuna  norma costituzionale.\"},\n",
       "  {'titolo': \"SENT.  1/56  H. LIBERTA' DI MANIFESTAZIONE DEL PENSIERO - ART. 21 COST.  -  ESTENSIONE  DELLA  GARANZIA  COSTITUZIONALE  - LIMITI - DIFFUSIONE  DI  SCRITTI  O  DISEGNI  -  AUTORIZZAZIONE  DI P.S. - CONDIZIONI  DI LEGITTIMITA' -  INSUSSISTENZA.\",\n",
       "   'numero': '8',\n",
       "   'norme': [{'specificazione_articolo': '',\n",
       "     'descrizione': 'regio decreto',\n",
       "     'comma': '',\n",
       "     'numero': '773',\n",
       "     'data': '18/06/1931',\n",
       "     'articolo': '113',\n",
       "     'specificazione_comma': ''}],\n",
       "   'parametri': [{'specificazione_articolo': '',\n",
       "     'descrizione': 'Costituzione',\n",
       "     'comma': '',\n",
       "     'numero': '',\n",
       "     'data': '',\n",
       "     'articolo': '21',\n",
       "     'specificazione_comma': ''}],\n",
       "   'testo': \"E' evidentemente da escludere che con la enunciazione del diritto di  libera  manifestazione  del  pensiero  la  Costituzione abbia consentito  attivita' le quali turbino la tranquillita' pubblica, ovvero  abbia  sottratto alla polizia di sicurezza la funzione di prevenzione dei reati. Sotto questo aspetto bisognerebbe non dubitare della legittimita' costituzionale   dell'art.   113   T.U.   leggi  di  p.s.,  se il conferimento  del  potere  ivi indicato all'Autorita' di pubblica sicurezza   risultasse   vincolato  al  fine  di  impedire  fatti costitutivi  di  reati  o  che,  secondo  ragionevoli previsioni, potrebbero  provocarli. Nessuna determinazione in tal senso vi e' peraltro nel detto articolo.\"},\n",
       "  {'titolo': \"SENT.  1/56  I.  MANIFESTAZIONE  DEL PENSIERO - AUTORIZZAZIONE DI P.S. PER DIFFUSIONE DI SCRITTI E DISEGNI - ART. 113 T.U. LEGGI DI P.S.,  APPROVATO  CON  R.D.  18  GIUGNO  1931,  N.  773  - POTERE DISCREZIONALE  ILLIMITATO DELLA PUBBLICA AUTORITA', NONOSTANTE IL RICORSO  AL  PROCURATORE  DELLA  REPUBBLICA  PREVISTO  DAL  DECR. LEGISL. 8 NOVEMBRE 1947, N. 1382 - CONTRASTO CON L'ART. 21, PRIMO COMMA, COST. - ILLEGITTIMITA' COSTITUZIONALE.\",\n",
       "   'numero': '9',\n",
       "   'norme': [{'specificazione_articolo': '',\n",
       "     'descrizione': 'regio decreto',\n",
       "     'comma': '',\n",
       "     'numero': '773',\n",
       "     'data': '18/06/1931',\n",
       "     'articolo': '113',\n",
       "     'specificazione_comma': ''},\n",
       "    {'specificazione_articolo': '',\n",
       "     'descrizione': 'decreto-legge',\n",
       "     'comma': '',\n",
       "     'numero': '1382',\n",
       "     'data': '08/11/1947',\n",
       "     'articolo': '1',\n",
       "     'specificazione_comma': ''},\n",
       "    {'specificazione_articolo': '',\n",
       "     'descrizione': 'decreto-legge',\n",
       "     'comma': '',\n",
       "     'numero': '1382',\n",
       "     'data': '08/11/1947',\n",
       "     'articolo': '2',\n",
       "     'specificazione_comma': ''}],\n",
       "   'parametri': [{'specificazione_articolo': '',\n",
       "     'descrizione': 'Costituzione',\n",
       "     'comma': '1',\n",
       "     'numero': '',\n",
       "     'data': '',\n",
       "     'articolo': '21',\n",
       "     'specificazione_comma': ''}],\n",
       "   'testo': \"L'art.  113 T.U. delle leggi di p.s. approvato con R.D. 18 giugno 1931,  n.  773,  col  prescrivere  per  la  diffusione,  in luogo pubblico  o  aperto  o esposto al pubblico, di scritti o disegni, l'autorizzazione  di P.S. e non imponendo  alcun limite al potere discrezionale conferito all'autorita', sembra far dipendere quasi da   una  concessione  della  stessa  autorita',  il  diritto  di manifestazione del pensiero, con ogni mezzo, che invece l'art. 21 della Costituzione riconosce incondizionatamente a tutti. Pur  avendo  notevolmente  ridotto  l'ampiezza di tale potere, il decreto  legislativo  8  novembre  1947, n. 1382 (che consente il ricorso  al  Procuratore  della Repubblica contro i provvedimenti dell'Autorita'   di   pubblica   sicurezza   che  abbiano  negato l'autorizzazione,  disponendo  che  la  decisione del Procuratore della  Repubblica  li  sostituisca a tutti gli effetti) non ne ha eliminato  la  indeterminatezza  originaria,  per  cui continua a sussistere  una  eccessiva  estensione di discrezionalita', cosi' per  l'autorita' di pubblica sicurezza come per l'organo chiamato a controllarne l'attivita'. Le  disposizioni dei commi primo, secondo, terzo, quarto, sesto e settimo  dell'art.   113  T.U.   leggi   di  P.S.,  vanno  quindi dichiarate  costituzionalmente  illegittime   per  contrasto  con l'art.  21, primo comma, della Costituzione.\"},\n",
       "  {'titolo': \"SENT.   1/56 L.  DICHIARAZIONE DI ILLEGITTIMITA' COSTITUZIONALE - EFFETTI  SU  ALTRE  DISPOSIZIONI   LEGISLATIVE  -  ILLEGITTIMITA' COSTITUZIONALE  DELL'ART.   113,  COMMI  PRIMO,  SECONDO,  TERZO, QUARTO,  SESTO  E  SETTIMO,  T.U.    LEGGI  P.S.   -  CONSEGUENTE ILLEGITTIMITA'  DELL'ART.  1 D.  LG.  8 NOVEMBRE 1947, N.   1382.\",\n",
       "   'numero': '10',\n",
       "   'norme': [{'specificazione_articolo': '',\n",
       "     'descrizione': 'regio decreto',\n",
       "     'comma': '',\n",
       "     'numero': '773',\n",
       "     'data': '18/06/1931',\n",
       "     'articolo': '113',\n",
       "     'specificazione_comma': ''},\n",
       "    {'specificazione_articolo': '',\n",
       "     'descrizione': 'codice penale',\n",
       "     'comma': '',\n",
       "     'numero': '',\n",
       "     'data': '',\n",
       "     'articolo': '663',\n",
       "     'specificazione_comma': ''}],\n",
       "   'parametri': [{'specificazione_articolo': '',\n",
       "     'descrizione': 'Costituzione',\n",
       "     'comma': '',\n",
       "     'numero': '',\n",
       "     'data': '',\n",
       "     'articolo': '21',\n",
       "     'specificazione_comma': ''},\n",
       "    {'specificazione_articolo': '',\n",
       "     'descrizione': 'legge',\n",
       "     'comma': '',\n",
       "     'numero': '87',\n",
       "     'data': '11/03/1953',\n",
       "     'articolo': '27',\n",
       "     'specificazione_comma': ''}],\n",
       "   'testo': \"Ai  sensi dell'art.  27 della legge 11 marzo 1953, n.  87,  dalla dichiarazione  di  illegittimita' costituzionale dello art.   113 commi  primo,  secondo, terzo, quarto, sesto e settimo  del  T.U. delle  leggi di P.S.  deriva come conseguenza la dichiarazione di illegittimita'  costituzionale  dell'art.  1 D.  Lg.  8  novembre 1947,  n.  1382, e la inoperativita' dell'art.  663 Cod.pen.   in quanto  riferibile  per la sanzione all'art.  113 T.U.  leggi  di p.s..\"}],\n",
       " 'tipologia_pronuncia': 'S'}"
      ]
     },
     "execution_count": 31,
     "metadata": {},
     "output_type": "execute_result"
    }
   ],
   "source": [
    "data[\"corte_costituzionale_archiviomassime\"][0]"
   ]
  },
  {
   "cell_type": "code",
   "execution_count": 32,
   "metadata": {},
   "outputs": [
    {
     "data": {
      "text/plain": [
       "7"
      ]
     },
     "execution_count": 32,
     "metadata": {},
     "output_type": "execute_result"
    }
   ],
   "source": [
    "len(data[\"corte_costituzionale_archiviomassime\"][0])"
   ]
  },
  {
   "cell_type": "code",
   "execution_count": 33,
   "metadata": {},
   "outputs": [
    {
     "data": {
      "text/plain": [
       "dict_keys(['numero_pronuncia', 'tipologia_giudizio', 'data_deposito', 'anno_pronuncia', 'data_decisione', 'massime', 'tipologia_pronuncia'])"
      ]
     },
     "execution_count": 33,
     "metadata": {},
     "output_type": "execute_result"
    }
   ],
   "source": [
    "data[\"corte_costituzionale_archiviomassime\"][0].keys()"
   ]
  },
  {
   "cell_type": "code",
   "execution_count": 36,
   "metadata": {},
   "outputs": [
    {
     "data": {
      "text/plain": [
       "10"
      ]
     },
     "execution_count": 36,
     "metadata": {},
     "output_type": "execute_result"
    }
   ],
   "source": [
    "data[\"corte_costituzionale_archiviomassime\"][0][\"massime\"].__len__()"
   ]
  },
  {
   "cell_type": "code",
   "execution_count": 40,
   "metadata": {},
   "outputs": [
    {
     "data": {
      "text/plain": [
       "{'titolo': \"SENT.  1/56  C.  GIUDIZIO  DI  LEGITTIMITA' COSTITUZIONALE IN VIA INCIDENTALE  -  ILLEGITTIMITA'  COSTITUZIONALE  -  ABROGAZIONE  - DIFFERENZE - LEGGI ANTERIORI ALLA COSTITUZIONE.\",\n",
       " 'numero': '3',\n",
       " 'norme': [{'specificazione_articolo': '',\n",
       "   'descrizione': 'disposizioni sulla legge in generale',\n",
       "   'comma': '',\n",
       "   'numero': '',\n",
       "   'data': '',\n",
       "   'articolo': '15',\n",
       "   'specificazione_comma': ''}],\n",
       " 'parametri': [{'specificazione_articolo': '',\n",
       "   'descrizione': 'Costituzione',\n",
       "   'comma': '',\n",
       "   'numero': '',\n",
       "   'data': '',\n",
       "   'articolo': '136',\n",
       "   'specificazione_comma': ''},\n",
       "  {'specificazione_articolo': '',\n",
       "   'descrizione': 'legge',\n",
       "   'comma': '',\n",
       "   'numero': '87',\n",
       "   'data': '11/03/1953',\n",
       "   'articolo': '30',\n",
       "   'specificazione_comma': ''}],\n",
       " 'testo': \"I  due  istituti giuridici dell'abrogazione e dell'illegittimita' costituzionale   delle  leggi  non  sono  identici  fra  loro, si muovono  su  piani  diversi, con effetti diversi e con competenze diverse.  Il campo dell'abrogazione inoltre e' piu' ristretto, in confronto  di  quello  della  illegittimita' costituzionale, ed i requisiti    richiesti   perche'   si   abbia   abrogazione   per incompatibilita'  sono  molto piu' limitati di quelli che possano consentire  la  dichiarazione  di  illegittimita'  di  una legge. Pertanto,  e'  necessario  tener  presente  tutto cio' al fine di stabilire  se  ed  in  quali  casi,  per  le  leggi anteriori, il contrasto   con   norme  della  Costituzione  sopravvenuta  possa configurare  un  problema  di abrogazione per incompatibilita' da risolvere alla stregua dei principi generali fissati nell'art. 15 delle disp. prel. al cod. civ..\"}"
      ]
     },
     "execution_count": 40,
     "metadata": {},
     "output_type": "execute_result"
    }
   ],
   "source": [
    "data[\"corte_costituzionale_archiviomassime\"][0][\"massime\"][2]"
   ]
  },
  {
   "cell_type": "code",
   "execution_count": 38,
   "metadata": {},
   "outputs": [
    {
     "data": {
      "text/plain": [
       "469"
      ]
     },
     "execution_count": 38,
     "metadata": {},
     "output_type": "execute_result"
    }
   ],
   "source": [
    "data[\"corte_costituzionale_archiviomassime\"][0][\"massime\"][0][\"testo\"].__len__()"
   ]
  },
  {
   "cell_type": "code",
   "execution_count": 41,
   "metadata": {},
   "outputs": [
    {
     "data": {
      "text/plain": [
       "\"I  due  istituti giuridici dell'abrogazione e dell'illegittimita' costituzionale   delle  leggi  non  sono  identici  fra  loro, si muovono  su  piani  diversi, con effetti diversi e con competenze diverse.  Il campo dell'abrogazione inoltre e' piu' ristretto, in confronto  di  quello  della  illegittimita' costituzionale, ed i requisiti    richiesti   perche'   si   abbia   abrogazione   per incompatibilita'  sono  molto piu' limitati di quelli che possano consentire  la  dichiarazione  di  illegittimita'  di  una legge. Pertanto,  e'  necessario  tener  presente  tutto cio' al fine di stabilire  se  ed  in  quali  casi,  per  le  leggi anteriori, il contrasto   con   norme  della  Costituzione  sopravvenuta  possa configurare  un  problema  di abrogazione per incompatibilita' da risolvere alla stregua dei principi generali fissati nell'art. 15 delle disp. prel. al cod. civ..\""
      ]
     },
     "execution_count": 41,
     "metadata": {},
     "output_type": "execute_result"
    }
   ],
   "source": [
    "data[\"corte_costituzionale_archiviomassime\"][0][\"massime\"][2][\"testo\"]"
   ]
  },
  {
   "cell_type": "code",
   "execution_count": null,
   "metadata": {},
   "outputs": [],
   "source": []
  }
 ],
 "metadata": {
  "kernelspec": {
   "display_name": ".venv",
   "language": "python",
   "name": "python3"
  },
  "language_info": {
   "codemirror_mode": {
    "name": "ipython",
    "version": 3
   },
   "file_extension": ".py",
   "mimetype": "text/x-python",
   "name": "python",
   "nbconvert_exporter": "python",
   "pygments_lexer": "ipython3",
   "version": "3.10.10"
  }
 },
 "nbformat": 4,
 "nbformat_minor": 2
}
